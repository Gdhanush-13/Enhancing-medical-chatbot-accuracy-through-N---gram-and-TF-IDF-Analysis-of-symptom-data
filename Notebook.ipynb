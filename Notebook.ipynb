{
 "cells": [
  {
   "cell_type": "markdown",
   "id": "940db836",
   "metadata": {},
   "source": [
    "# Importing Libraries"
   ]
  },
  {
   "cell_type": "code",
   "execution_count": 1,
   "id": "cf48f0ef",
   "metadata": {},
   "outputs": [],
   "source": [
    "import warnings\n",
    "warnings.filterwarnings('ignore')"
   ]
  },
  {
   "cell_type": "code",
   "execution_count": 2,
   "id": "d6386a88",
   "metadata": {},
   "outputs": [],
   "source": [
    "from sklearn.feature_extraction.text import TfidfVectorizer\n",
    "import re\n",
    "import base64\n",
    "import numpy as np\n",
    "import os\n",
    "import pandas as pd\n",
    "from io import BytesIO\n",
    "import matplotlib.pyplot as plt\n",
    "import string\n",
    "from sklearn.model_selection import train_test_split\n",
    "from sklearn.metrics import confusion_matrix\n",
    "from sklearn.metrics import  classification_report\n",
    "import seaborn as sns\n",
    "from sklearn.metrics import precision_score\n",
    "from sklearn.metrics import recall_score\n",
    "from sklearn.metrics import f1_score\n",
    "from sklearn.metrics import accuracy_score\n",
    "from nltk.corpus import stopwords\n",
    "from nltk.tokenize import word_tokenize\n",
    "from nltk.stem import WordNetLemmatizer\n",
    "from string import punctuation\n",
    "import nltk\n",
    "from nltk.stem import WordNetLemmatizer\n",
    "from tensorflow.keras.utils import to_categorical\n",
    "from tensorflow.keras.layers import  MaxPooling2D\n",
    "from tensorflow.keras.layers import Dense, Dropout, Activation, Flatten\n",
    "from tensorflow.keras.layers import Convolution2D\n",
    "from tensorflow.keras.models import Sequential\n",
    "from tensorflow.keras.models import model_from_json\n",
    "import pickle\n",
    "from sklearn.svm import SVC\n",
    "from wordcloud import WordCloud, STOPWORDS\n",
    "from sklearn.ensemble import RandomForestClassifier\n",
    "import tensorflow as tf\n",
    "from sklearn.naive_bayes import GaussianNB"
   ]
  },
  {
   "cell_type": "code",
   "execution_count": 3,
   "id": "ca7854a6",
   "metadata": {},
   "outputs": [],
   "source": [
    "from tensorflow.keras.utils import to_categorical\n",
    "from tensorflow.keras.layers import  MaxPooling2D\n",
    "from tensorflow.keras.layers import Dense, Dropout, Activation, Flatten\n",
    "from tensorflow.keras.layers import Convolution2D\n",
    "from tensorflow.keras.models import Sequential"
   ]
  },
  {
   "cell_type": "markdown",
   "id": "d5b854f6",
   "metadata": {},
   "source": [
    "# Importing Dataset"
   ]
  },
  {
   "cell_type": "code",
   "execution_count": 4,
   "id": "f8e43742",
   "metadata": {},
   "outputs": [],
   "source": [
    "dataset = pd.read_csv('Dataset/dataset.csv')"
   ]
  },
  {
   "cell_type": "markdown",
   "id": "a78de571",
   "metadata": {},
   "source": [
    "# EDA"
   ]
  },
  {
   "cell_type": "code",
   "execution_count": 5,
   "id": "cc1d0dad",
   "metadata": {},
   "outputs": [
    {
     "data": {
      "text/html": [
       "<div>\n",
       "<style scoped>\n",
       "    .dataframe tbody tr th:only-of-type {\n",
       "        vertical-align: middle;\n",
       "    }\n",
       "\n",
       "    .dataframe tbody tr th {\n",
       "        vertical-align: top;\n",
       "    }\n",
       "\n",
       "    .dataframe thead th {\n",
       "        text-align: right;\n",
       "    }\n",
       "</style>\n",
       "<table border=\"1\" class=\"dataframe\">\n",
       "  <thead>\n",
       "    <tr style=\"text-align: right;\">\n",
       "      <th></th>\n",
       "      <th>Source</th>\n",
       "      <th>Target</th>\n",
       "    </tr>\n",
       "  </thead>\n",
       "  <tbody>\n",
       "    <tr>\n",
       "      <th>0</th>\n",
       "      <td>fungal infection</td>\n",
       "      <td>itching skin_rash nodal_skin_eruptions dischro...</td>\n",
       "    </tr>\n",
       "    <tr>\n",
       "      <th>1</th>\n",
       "      <td>fungal infection</td>\n",
       "      <td>skin_rash nodal_skin_eruptions dischromic_patches</td>\n",
       "    </tr>\n",
       "    <tr>\n",
       "      <th>2</th>\n",
       "      <td>fungal infection</td>\n",
       "      <td>itching nodal_skin_eruptions dischromic_patches</td>\n",
       "    </tr>\n",
       "    <tr>\n",
       "      <th>3</th>\n",
       "      <td>fungal infection</td>\n",
       "      <td>itching skin_rash dischromic_patches</td>\n",
       "    </tr>\n",
       "    <tr>\n",
       "      <th>4</th>\n",
       "      <td>fungal infection</td>\n",
       "      <td>itching skin_rash nodal_skin_eruptions</td>\n",
       "    </tr>\n",
       "  </tbody>\n",
       "</table>\n",
       "</div>"
      ],
      "text/plain": [
       "             Source                                             Target\n",
       "0  fungal infection  itching skin_rash nodal_skin_eruptions dischro...\n",
       "1  fungal infection  skin_rash nodal_skin_eruptions dischromic_patches\n",
       "2  fungal infection    itching nodal_skin_eruptions dischromic_patches\n",
       "3  fungal infection               itching skin_rash dischromic_patches\n",
       "4  fungal infection             itching skin_rash nodal_skin_eruptions"
      ]
     },
     "execution_count": 5,
     "metadata": {},
     "output_type": "execute_result"
    }
   ],
   "source": [
    "dataset.head()"
   ]
  },
  {
   "cell_type": "code",
   "execution_count": 6,
   "id": "0b9c55af",
   "metadata": {},
   "outputs": [
    {
     "name": "stdout",
     "output_type": "stream",
     "text": [
      "<class 'pandas.core.frame.DataFrame'>\n",
      "RangeIndex: 4920 entries, 0 to 4919\n",
      "Data columns (total 2 columns):\n",
      " #   Column  Non-Null Count  Dtype \n",
      "---  ------  --------------  ----- \n",
      " 0   Source  4920 non-null   object\n",
      " 1   Target  4920 non-null   object\n",
      "dtypes: object(2)\n",
      "memory usage: 77.0+ KB\n"
     ]
    }
   ],
   "source": [
    "dataset.info()"
   ]
  },
  {
   "cell_type": "code",
   "execution_count": 7,
   "id": "828b71ac",
   "metadata": {},
   "outputs": [
    {
     "data": {
      "text/plain": [
       "Source    0\n",
       "Target    0\n",
       "dtype: int64"
      ]
     },
     "execution_count": 7,
     "metadata": {},
     "output_type": "execute_result"
    }
   ],
   "source": [
    "dataset.isnull().sum()"
   ]
  },
  {
   "cell_type": "code",
   "execution_count": 8,
   "id": "fa38855b",
   "metadata": {},
   "outputs": [
    {
     "data": {
      "text/html": [
       "<div>\n",
       "<style scoped>\n",
       "    .dataframe tbody tr th:only-of-type {\n",
       "        vertical-align: middle;\n",
       "    }\n",
       "\n",
       "    .dataframe tbody tr th {\n",
       "        vertical-align: top;\n",
       "    }\n",
       "\n",
       "    .dataframe thead th {\n",
       "        text-align: right;\n",
       "    }\n",
       "</style>\n",
       "<table border=\"1\" class=\"dataframe\">\n",
       "  <thead>\n",
       "    <tr style=\"text-align: right;\">\n",
       "      <th></th>\n",
       "      <th>Source</th>\n",
       "      <th>Target</th>\n",
       "    </tr>\n",
       "  </thead>\n",
       "  <tbody>\n",
       "    <tr>\n",
       "      <th>count</th>\n",
       "      <td>4920</td>\n",
       "      <td>4920</td>\n",
       "    </tr>\n",
       "    <tr>\n",
       "      <th>unique</th>\n",
       "      <td>41</td>\n",
       "      <td>304</td>\n",
       "    </tr>\n",
       "    <tr>\n",
       "      <th>top</th>\n",
       "      <td>fungal infection</td>\n",
       "      <td>constipation pain_during_bowel_movements pain_...</td>\n",
       "    </tr>\n",
       "    <tr>\n",
       "      <th>freq</th>\n",
       "      <td>120</td>\n",
       "      <td>90</td>\n",
       "    </tr>\n",
       "  </tbody>\n",
       "</table>\n",
       "</div>"
      ],
      "text/plain": [
       "                  Source                                             Target\n",
       "count               4920                                               4920\n",
       "unique                41                                                304\n",
       "top     fungal infection  constipation pain_during_bowel_movements pain_...\n",
       "freq                 120                                                 90"
      ]
     },
     "execution_count": 8,
     "metadata": {},
     "output_type": "execute_result"
    }
   ],
   "source": [
    "dataset.describe()"
   ]
  },
  {
   "cell_type": "markdown",
   "id": "bf46a8d5",
   "metadata": {},
   "source": [
    "# Data Visualization"
   ]
  },
  {
   "cell_type": "code",
   "execution_count": 9,
   "id": "411b240f",
   "metadata": {},
   "outputs": [
    {
     "data": {
      "image/png": "[encoded data removed]",
      "text/plain": [
       "<Figure size 720x432 with 1 Axes>"
      ]
     },
     "metadata": {
      "needs_background": "light"
     },
     "output_type": "display_data"
    }
   ],
   "source": [
    "symptom_counts = dataset['Target'].str.split().explode().value_counts()\n",
    "\n",
    "\n",
    "top_n = 10  \n",
    "plt.figure(figsize=(10, 6))\n",
    "sns.barplot(x=symptom_counts.head(top_n).index, y=symptom_counts.head(top_n).values, palette=\"viridis\")\n",
    "plt.title('Top {} Symptoms for Fungal Infections'.format(top_n))\n",
    "plt.xlabel('Symptoms')\n",
    "plt.ylabel('Count')\n",
    "plt.xticks(rotation=45, ha='right')\n",
    "plt.show()"
   ]
  },
  {
   "cell_type": "markdown",
   "id": "74022ae5",
   "metadata": {},
   "source": [
    "# Text Cleaning"
   ]
  },
  {
   "cell_type": "code",
   "execution_count": 10,
   "id": "938a0d4c",
   "metadata": {},
   "outputs": [],
   "source": [
    "stop_words = set(stopwords.words('english'))\n",
    "lemmatizer = WordNetLemmatizer()\n",
    "\n",
    "def cleanData(doc):\n",
    "    tokens = doc.split()\n",
    "    table = str.maketrans('', '', punctuation)\n",
    "    tokens = [w.translate(table) for w in tokens]\n",
    "    tokens = [word for word in tokens if word.isalpha()]\n",
    "    tokens = [w for w in tokens if not w in stop_words]\n",
    "    tokens = [word for word in tokens if len(word) > 1]\n",
    "    tokens = [lemmatizer.lemmatize(token) for token in tokens]\n",
    "    tokens = ' '.join(tokens)\n",
    "    return tokens"
   ]
  },
  {
   "cell_type": "code",
   "execution_count": 11,
   "id": "e4a105ed",
   "metadata": {},
   "outputs": [],
   "source": [
    "labels = dataset['Source'].unique().tolist()\n",
    "symptoms = dataset.Target\n",
    "diseases = dataset.Source\n",
    "Y = []\n",
    "for i in range(len(diseases)):\n",
    "    index = labels.index(diseases[i])\n",
    "    Y.append(index)"
   ]
  },
  {
   "cell_type": "code",
   "execution_count": 12,
   "id": "025775ea",
   "metadata": {},
   "outputs": [],
   "source": [
    "X = []\n",
    "for i in range(len(symptoms)):\n",
    "    arr = symptoms[i]\n",
    "    arr = arr.strip().lower()\n",
    "    arr = arr.replace(\"_\", \" \")\n",
    "    X.append(cleanData(arr))"
   ]
  },
  {
   "cell_type": "code",
   "execution_count": 13,
   "id": "9fdc22a1",
   "metadata": {},
   "outputs": [],
   "source": [
    "R = []\n",
    "for i in range(len(symptoms)):\n",
    "    arr = symptoms[i]\n",
    "    arr = arr.strip().lower()\n",
    "    arr = arr.replace(\"_\", \" \")\n",
    "    R.append(cleanData(arr))"
   ]
  },
  {
   "cell_type": "markdown",
   "id": "edbe80be",
   "metadata": {},
   "source": [
    "# N-gram"
   ]
  },
  {
   "cell_type": "code",
   "execution_count": 14,
   "id": "260c1e4b",
   "metadata": {},
   "outputs": [],
   "source": [
    "ngram_range = (1, 2)  \n",
    "max_features = 199    \n",
    "\n",
    "vectorizer1 = TfidfVectorizer(ngram_range=ngram_range, max_features=max_features)\n",
    "X2 = vectorizer1.fit_transform(R)"
   ]
  },
  {
   "cell_type": "code",
   "execution_count": 15,
   "id": "cabcf3d8",
   "metadata": {},
   "outputs": [],
   "source": [
    "y = Y\n",
    "Y = np.asarray(Y)"
   ]
  },
  {
   "cell_type": "code",
   "execution_count": 16,
   "id": "f899ac57",
   "metadata": {},
   "outputs": [],
   "source": [
    "X_train, X_test, Y_train, Y_test = train_test_split(X2,y, test_size = 0.20, random_state = 42)"
   ]
  },
  {
   "cell_type": "markdown",
   "id": "3797abf9",
   "metadata": {},
   "source": [
    "# Random Forest"
   ]
  },
  {
   "cell_type": "code",
   "execution_count": 17,
   "id": "6ff44a43",
   "metadata": {},
   "outputs": [
    {
     "name": "stdout",
     "output_type": "stream",
     "text": [
      "*Accuracy score for Random Forest:  80.6910569105691 \n",
      "\n",
      "*Confusion Matrix for Random Forest: \n",
      "[[16  0  0 ...  0  0  0]\n",
      " [ 0  0  0 ...  0  0  0]\n",
      " [ 0  0 28 ...  0  0  0]\n",
      " ...\n",
      " [ 0  0  0 ...  0  0  0]\n",
      " [ 0  0  0 ...  0 22  0]\n",
      " [ 0  0  0 ...  0  0 24]]\n",
      "*Classification Report for Random Forest: \n",
      "              precision    recall  f1-score   support\n",
      "\n",
      "           0       1.00      0.84      0.91        19\n",
      "           1       0.00      0.00      0.00        24\n",
      "           2       0.97      1.00      0.98        28\n",
      "           3       0.11      1.00      0.19        15\n",
      "           4       1.00      0.83      0.91        24\n",
      "           5       1.00      1.00      1.00        17\n",
      "           6       0.00      0.00      0.00        30\n",
      "           7       1.00      1.00      1.00        21\n",
      "           8       1.00      0.96      0.98        25\n",
      "           9       0.00      0.00      0.00        33\n",
      "          10       0.00      0.00      0.00        25\n",
      "          11       1.00      1.00      1.00        25\n",
      "          12       1.00      0.87      0.93        23\n",
      "          13       1.00      1.00      1.00        24\n",
      "          14       1.00      1.00      1.00        19\n",
      "          15       1.00      1.00      1.00        22\n",
      "          16       1.00      1.00      1.00        21\n",
      "          17       1.00      1.00      1.00        26\n",
      "          18       0.83      1.00      0.90        19\n",
      "          19       0.00      0.00      0.00        34\n",
      "          20       1.00      1.00      1.00        27\n",
      "          21       1.00      1.00      1.00        26\n",
      "          22       1.00      1.00      1.00        23\n",
      "          23       1.00      1.00      1.00        29\n",
      "          24       0.50      1.00      0.67        25\n",
      "          25       1.00      1.00      1.00        25\n",
      "          26       0.85      1.00      0.92        23\n",
      "          27       1.00      1.00      1.00        28\n",
      "          28       1.00      0.90      0.95        29\n",
      "          29       1.00      0.91      0.95        23\n",
      "          30       0.85      1.00      0.92        22\n",
      "          31       1.00      1.00      1.00        21\n",
      "          32       1.00      1.00      1.00        24\n",
      "          33       1.00      1.00      1.00        26\n",
      "          34       1.00      1.00      1.00        22\n",
      "          35       1.00      1.00      1.00        23\n",
      "          36       0.39      1.00      0.56        18\n",
      "          37       1.00      0.92      0.96        24\n",
      "          38       0.00      0.00      0.00        26\n",
      "          39       1.00      1.00      1.00        22\n",
      "          40       1.00      1.00      1.00        24\n",
      "\n",
      "    accuracy                           0.81       984\n",
      "   macro avg       0.79      0.83      0.80       984\n",
      "weighted avg       0.78      0.81      0.78       984\n",
      "\n"
     ]
    }
   ],
   "source": [
    "RF = RandomForestClassifier(max_depth=2, random_state=0)\n",
    "RF.fit(X_train, Y_train)\n",
    "predictions = RF.predict(X_test)\n",
    "val2 = (accuracy_score(Y_test, predictions)*100)\n",
    "print(\"*Accuracy score for Random Forest: \", val2, \"\\n\")\n",
    "print(\"*Confusion Matrix for Random Forest: \")\n",
    "print(confusion_matrix(Y_test, predictions))\n",
    "print(\"*Classification Report for Random Forest: \")\n",
    "print(classification_report(Y_test, predictions))"
   ]
  },
  {
   "cell_type": "code",
   "execution_count": 18,
   "id": "4a598d76",
   "metadata": {},
   "outputs": [
    {
     "name": "stdout",
     "output_type": "stream",
     "text": [
      "Accuracy: 80.69%\n",
      "Precision: 79.24%\n",
      "Recall: 83.49%\n",
      "F1-score: 79.85%\n"
     ]
    }
   ],
   "source": [
    "acc = accuracy_score(Y_test, predictions) * 100\n",
    "p = precision_score(Y_test, predictions,average='macro') * 100 \n",
    "r = recall_score(Y_test, predictions,average='macro') * 100\n",
    "f = f1_score(Y_test, predictions,average='macro') * 100\n",
    "\n",
    "\n",
    "\n",
    "print(\"Accuracy: {:.2f}%\".format(acc))\n",
    "print(\"Precision: {:.2f}%\".format(p))\n",
    "print(\"Recall: {:.2f}%\".format(r))\n",
    "print(\"F1-score: {:.2f}%\".format(f))"
   ]
  },
  {
   "cell_type": "markdown",
   "id": "b71448bf",
   "metadata": {},
   "source": [
    "# TF-IDF"
   ]
  },
  {
   "cell_type": "code",
   "execution_count": 19,
   "id": "c8426001",
   "metadata": {},
   "outputs": [],
   "source": [
    "stopwords=stopwords = nltk.corpus.stopwords.words(\"english\")\n",
    "tfidf_vectorizer = TfidfVectorizer(stop_words=stopwords, use_idf=True,smooth_idf=False, norm=None, decode_error='replace')\n",
    "tfidf = tfidf_vectorizer.fit_transform(X).toarray()        \n",
    "df = pd.DataFrame(tfidf, columns=tfidf_vectorizer.get_feature_names())"
   ]
  },
  {
   "cell_type": "code",
   "execution_count": 20,
   "id": "1829253d",
   "metadata": {},
   "outputs": [],
   "source": [
    "pickle.dump(tfidf_vectorizer,open('tfidf_vectorizer.pkl','wb'))"
   ]
  },
  {
   "cell_type": "code",
   "execution_count": 21,
   "id": "ad40dd13",
   "metadata": {},
   "outputs": [],
   "source": [
    "X = df\n",
    "y = Y"
   ]
  },
  {
   "cell_type": "code",
   "execution_count": 22,
   "id": "f7cc55ea",
   "metadata": {},
   "outputs": [],
   "source": [
    "X_train, X_test, Y_train, Y_test = train_test_split(X,y, test_size = 0.20, random_state = 42)"
   ]
  },
  {
   "cell_type": "markdown",
   "id": "c054618d",
   "metadata": {},
   "source": [
    "# Random Forest"
   ]
  },
  {
   "cell_type": "code",
   "execution_count": 23,
   "id": "1c4784a5",
   "metadata": {},
   "outputs": [
    {
     "name": "stdout",
     "output_type": "stream",
     "text": [
      "*Accuracy score for Random Forest:  80.9959349593496 \n",
      "\n",
      "*Confusion Matrix for Random Forest: \n",
      "[[19  0  0 ...  0  0  0]\n",
      " [ 0 20  0 ...  0  0  0]\n",
      " [ 0  0 23 ...  0  0  0]\n",
      " ...\n",
      " [ 0  0  0 ... 26  0  0]\n",
      " [ 0  0  0 ...  0 22  0]\n",
      " [ 0  0  0 ...  0  0 20]]\n",
      "*Classification Report for Random Forest: \n",
      "              precision    recall  f1-score   support\n",
      "\n",
      "           0       1.00      1.00      1.00        19\n",
      "           1       1.00      0.83      0.91        24\n",
      "           2       1.00      0.82      0.90        28\n",
      "           3       0.09      1.00      0.17        15\n",
      "           4       1.00      0.96      0.98        24\n",
      "           5       1.00      1.00      1.00        17\n",
      "           6       0.00      0.00      0.00        30\n",
      "           7       1.00      1.00      1.00        21\n",
      "           8       0.00      0.00      0.00        25\n",
      "           9       1.00      0.94      0.97        33\n",
      "          10       1.00      0.96      0.98        25\n",
      "          11       1.00      1.00      1.00        25\n",
      "          12       1.00      0.87      0.93        23\n",
      "          13       1.00      1.00      1.00        24\n",
      "          14       1.00      0.84      0.91        19\n",
      "          15       0.85      1.00      0.92        22\n",
      "          16       0.81      1.00      0.89        21\n",
      "          17       1.00      0.96      0.98        26\n",
      "          18       1.00      1.00      1.00        19\n",
      "          19       0.00      0.00      0.00        34\n",
      "          20       1.00      1.00      1.00        27\n",
      "          21       0.00      0.00      0.00        26\n",
      "          22       0.00      0.00      0.00        23\n",
      "          23       1.00      1.00      1.00        29\n",
      "          24       1.00      1.00      1.00        25\n",
      "          25       1.00      1.00      1.00        25\n",
      "          26       1.00      1.00      1.00        23\n",
      "          27       1.00      1.00      1.00        28\n",
      "          28       1.00      1.00      1.00        29\n",
      "          29       0.00      0.00      0.00        23\n",
      "          30       1.00      1.00      1.00        22\n",
      "          31       1.00      1.00      1.00        21\n",
      "          32       1.00      1.00      1.00        24\n",
      "          33       1.00      1.00      1.00        26\n",
      "          34       0.43      1.00      0.60        22\n",
      "          35       1.00      1.00      1.00        23\n",
      "          36       1.00      1.00      1.00        18\n",
      "          37       1.00      0.92      0.96        24\n",
      "          38       1.00      1.00      1.00        26\n",
      "          39       1.00      1.00      1.00        22\n",
      "          40       1.00      0.83      0.91        24\n",
      "\n",
      "    accuracy                           0.81       984\n",
      "   macro avg       0.81      0.83      0.81       984\n",
      "weighted avg       0.80      0.81      0.80       984\n",
      "\n"
     ]
    }
   ],
   "source": [
    "RF = RandomForestClassifier(max_depth=2, random_state=0)\n",
    "RF.fit(X_train, Y_train)\n",
    "predictions = RF.predict(X_test)\n",
    "val2 = (accuracy_score(Y_test, predictions)*100)\n",
    "print(\"*Accuracy score for Random Forest: \", val2, \"\\n\")\n",
    "print(\"*Confusion Matrix for Random Forest: \")\n",
    "print(confusion_matrix(Y_test, predictions))\n",
    "print(\"*Classification Report for Random Forest: \")\n",
    "print(classification_report(Y_test, predictions))"
   ]
  },
  {
   "cell_type": "code",
   "execution_count": 24,
   "id": "e75d0667",
   "metadata": {},
   "outputs": [
    {
     "name": "stdout",
     "output_type": "stream",
     "text": [
      "Accuracy: 81.00%\n",
      "Precision: 80.92%\n",
      "Recall: 82.77%\n",
      "F1-score: 80.51%\n"
     ]
    }
   ],
   "source": [
    "a1 = accuracy_score(Y_test, predictions) * 100\n",
    "p1 = precision_score(Y_test, predictions,average='macro') * 100 \n",
    "r1 = recall_score(Y_test, predictions,average='macro') * 100\n",
    "f1 = f1_score(Y_test, predictions,average='macro') * 100\n",
    "\n",
    "\n",
    "\n",
    "print(\"Accuracy: {:.2f}%\".format(a1))\n",
    "print(\"Precision: {:.2f}%\".format(p1))\n",
    "print(\"Recall: {:.2f}%\".format(r1))\n",
    "print(\"F1-score: {:.2f}%\".format(f1))"
   ]
  },
  {
   "cell_type": "markdown",
   "id": "a53f9074",
   "metadata": {},
   "source": [
    "# CNN - Extension"
   ]
  },
  {
   "cell_type": "code",
   "execution_count": 25,
   "id": "acf13fbb",
   "metadata": {},
   "outputs": [
    {
     "name": "stdout",
     "output_type": "stream",
     "text": [
      "[ 0  0  0 ... 38 39 40]\n"
     ]
    }
   ],
   "source": [
    "Y = np.asarray(Y)\n",
    "print(Y)\n",
    "X = X.values\n",
    "indices = np.arange(X.shape[0])\n",
    "np.random.shuffle(indices)\n",
    "a = X\n",
    "b = Y\n",
    "X1 = a[indices]\n",
    "Y1 = b[indices]\n",
    "X = X[indices]\n",
    "Y = Y[indices]\n",
    "Y = to_categorical(Y)\n",
    "X = X.reshape(X.shape[0],X.shape[1],1,1)"
   ]
  },
  {
   "cell_type": "code",
   "execution_count": 26,
   "id": "6e9217bc",
   "metadata": {},
   "outputs": [
    {
     "name": "stdout",
     "output_type": "stream",
     "text": [
      "Epoch 1/10\n",
      "615/615 - 2s - loss: 0.0827 - accuracy: 0.9831\n",
      "Epoch 2/10\n",
      "615/615 - 1s - loss: 6.6952e-05 - accuracy: 1.0000\n",
      "Epoch 3/10\n",
      "615/615 - 1s - loss: 2.7446e-05 - accuracy: 1.0000\n",
      "Epoch 4/10\n",
      "615/615 - 1s - loss: 1.5217e-05 - accuracy: 1.0000\n",
      "Epoch 5/10\n",
      "615/615 - 1s - loss: 9.2349e-06 - accuracy: 1.0000\n",
      "Epoch 6/10\n",
      "615/615 - 1s - loss: 5.7523e-06 - accuracy: 1.0000\n",
      "Epoch 7/10\n",
      "615/615 - 1s - loss: 3.7511e-06 - accuracy: 1.0000\n",
      "Epoch 8/10\n",
      "615/615 - 1s - loss: 2.5823e-06 - accuracy: 1.0000\n",
      "Epoch 9/10\n",
      "615/615 - 1s - loss: 1.6551e-06 - accuracy: 1.0000\n",
      "Epoch 10/10\n",
      "615/615 - 1s - loss: 1.1714e-06 - accuracy: 1.0000\n"
     ]
    }
   ],
   "source": [
    "classifier = Sequential()\n",
    "classifier.add(Convolution2D(32, 1, 1, input_shape = (X.shape[1], X.shape[2], X.shape[3]), activation = 'relu'))\n",
    "classifier.add(MaxPooling2D(pool_size = (1, 1)))\n",
    "classifier.add(Convolution2D(32, 1, 1, activation = 'relu'))\n",
    "classifier.add(MaxPooling2D(pool_size = (1, 1)))\n",
    "classifier.add(Flatten())\n",
    "classifier.add(Dense(256, activation = 'relu'))\n",
    "classifier.add(Dense(Y.shape[1], activation = 'softmax'))\n",
    "\n",
    "classifier.compile(optimizer = 'adam', loss = 'categorical_crossentropy', metrics = ['accuracy'])\n",
    "hist = classifier.fit(X, Y, batch_size=8, epochs=10, shuffle=True, verbose=2)"
   ]
  },
  {
   "cell_type": "code",
   "execution_count": 27,
   "id": "dc935214",
   "metadata": {},
   "outputs": [],
   "source": [
    "classifier.save('model.h5')"
   ]
  },
  {
   "cell_type": "code",
   "execution_count": 28,
   "id": "7dbf1832",
   "metadata": {},
   "outputs": [
    {
     "name": "stdout",
     "output_type": "stream",
     "text": [
      "Accuracy: 100.00%\n",
      "Precision: 100.00%\n",
      "Recall: 100.00%\n",
      "F1-score: 100.00%\n"
     ]
    }
   ],
   "source": [
    "X_train, X_test, y_train, y_test = train_test_split(X, Y, test_size=0.2)\n",
    "\n",
    "predict = classifier.predict(X_test)\n",
    "predict = np.argmax(predict, axis=1)\n",
    "testY = np.argmax(y_test, axis=1)\n",
    "\n",
    "p2 = precision_score(testY, predict,average='macro') * 100\n",
    "r2 = recall_score(testY, predict,average='macro') * 100\n",
    "f2 = f1_score(testY, predict,average='macro') * 100\n",
    "a2 = accuracy_score(testY,predict)*100\n",
    "\n",
    "print(\"Accuracy: {:.2f}%\".format(a2))\n",
    "print(\"Precision: {:.2f}%\".format(p2))\n",
    "print(\"Recall: {:.2f}%\".format(r2))\n",
    "print(\"F1-score: {:.2f}%\".format(f2))\n",
    "\n"
   ]
  },
  {
   "cell_type": "markdown",
   "id": "8a1af055",
   "metadata": {},
   "source": [
    "# Comparison"
   ]
  },
  {
   "cell_type": "code",
   "execution_count": 29,
   "id": "c2425151",
   "metadata": {},
   "outputs": [],
   "source": [
    "results = {\n",
    "    'Accuracy': [acc, a1, a2],\n",
    "    'Recall': [r, r1, r2],\n",
    "    'Precision': [p, p1, p2],\n",
    "    'F1': [f, f1, f2]\n",
    "}\n",
    "\n",
    "index = ['Random Forest - N-gram','Random Forest - Tfid','CNN-Extension']"
   ]
  },
  {
   "cell_type": "code",
   "execution_count": 30,
   "id": "9e1831a4",
   "metadata": {},
   "outputs": [
    {
     "name": "stdout",
     "output_type": "stream",
     "text": [
      "                          Accuracy      Recall   Precision          F1\n",
      "Random Forest - N-gram   80.691057   83.490892   79.241044   79.847754\n",
      "Random Forest - Tfid     80.995935   82.769995   80.918737   80.510393\n",
      "CNN-Extension           100.000000  100.000000  100.000000  100.000000\n"
     ]
    }
   ],
   "source": [
    "results =pd.DataFrame(results,index=index)\n",
    "print(results)"
   ]
  },
  {
   "cell_type": "code",
   "execution_count": 31,
   "id": "62f8176e",
   "metadata": {},
   "outputs": [
    {
     "data": {
      "image/png": "[encoded data removed]",
      "text/plain": [
       "<Figure size 1368x1368 with 1 Axes>"
      ]
     },
     "metadata": {
      "needs_background": "light"
     },
     "output_type": "display_data"
    }
   ],
   "source": [
    "fig =results.plot(kind='bar',title='Comaprison of models',figsize =(19,19)).get_figure()\n",
    "fig.savefig('Final Result.png')"
   ]
  },
  {
   "cell_type": "code",
   "execution_count": 32,
   "id": "cf86d7a5",
   "metadata": {},
   "outputs": [
    {
     "data": {
      "image/png": "[encoded data removed]",
      "text/plain": [
       "<Figure size 576x432 with 1 Axes>"
      ]
     },
     "metadata": {
      "needs_background": "light"
     },
     "output_type": "display_data"
    }
   ],
   "source": [
    "accuracy_values = results['Accuracy']\n",
    "accuracy_df = pd.DataFrame({'Algorithms': index, 'Accuracy': accuracy_values})\n",
    "\n",
    "plt.figure(figsize=(8, 6))\n",
    "plt.bar(accuracy_df['Algorithms'], accuracy_df['Accuracy'], color='blue')\n",
    "plt.title('Accuracy of Different Algorithms')\n",
    "plt.xlabel('Algorithms')\n",
    "plt.ylabel('Accuracy')\n",
    "plt.xticks(rotation=45)\n",
    "plt.tight_layout()\n",
    "plt.show()"
   ]
  },
  {
   "cell_type": "code",
   "execution_count": 33,
   "id": "d51cbf75",
   "metadata": {},
   "outputs": [
    {
     "data": {
      "image/png": "[encoded data removed]",
      "text/plain": [
       "<Figure size 576x432 with 1 Axes>"
      ]
     },
     "metadata": {
      "needs_background": "light"
     },
     "output_type": "display_data"
    }
   ],
   "source": [
    "recall_values = results['Recall']\n",
    "recall_df = pd.DataFrame({'Algorithms': index, 'Recall': recall_values})\n",
    "\n",
    "plt.figure(figsize=(8, 6))\n",
    "plt.bar(recall_df['Algorithms'], recall_df['Recall'], color='orange')\n",
    "plt.title('Recall of Different Algorithms')\n",
    "plt.xlabel('Algorithms')\n",
    "plt.ylabel('Recall')\n",
    "plt.xticks(rotation=45)\n",
    "plt.tight_layout()\n",
    "plt.show()"
   ]
  },
  {
   "cell_type": "code",
   "execution_count": 34,
   "id": "a095c007",
   "metadata": {},
   "outputs": [
    {
     "data": {
      "image/png": "[encoded data removed]",
      "text/plain": [
       "<Figure size 576x432 with 1 Axes>"
      ]
     },
     "metadata": {
      "needs_background": "light"
     },
     "output_type": "display_data"
    }
   ],
   "source": [
    "precision_values = results['Precision']\n",
    "precision_df = pd.DataFrame({'Algorithms': index, 'Precision': precision_values})\n",
    "\n",
    "plt.figure(figsize=(8, 6))\n",
    "plt.bar(precision_df['Algorithms'], precision_df['Precision'], color='green')\n",
    "plt.title('Precision of Different Algorithms')\n",
    "plt.xlabel('Algorithms')\n",
    "plt.ylabel('Precision')\n",
    "plt.xticks(rotation=45)\n",
    "plt.tight_layout()\n",
    "plt.show()"
   ]
  },
  {
   "cell_type": "code",
   "execution_count": 35,
   "id": "4e2d3e86",
   "metadata": {},
   "outputs": [
    {
     "data": {
      "image/png": "[encoded data removed]",
      "text/plain": [
       "<Figure size 576x432 with 1 Axes>"
      ]
     },
     "metadata": {
      "needs_background": "light"
     },
     "output_type": "display_data"
    }
   ],
   "source": [
    "f1_values = results['F1']\n",
    "f1_df = pd.DataFrame({'Algorithms': index, 'F1 Score': f1_values})\n",
    "\n",
    "plt.figure(figsize=(8, 6))\n",
    "plt.bar(f1_df['Algorithms'], f1_df['F1 Score'], color='red')\n",
    "plt.title('F1 Score of Different Algorithms')\n",
    "plt.xlabel('Algorithms')\n",
    "plt.ylabel('F1 Score')\n",
    "plt.xticks(rotation=45)\n",
    "plt.tight_layout()\n",
    "plt.show()"
   ]
  },
  {
   "cell_type": "code",
   "execution_count": null,
   "id": "f43e1bd9",
   "metadata": {},
   "outputs": [],
   "source": []
  },
  {
   "cell_type": "code",
   "execution_count": null,
   "id": "37c5573c",
   "metadata": {},
   "outputs": [],
   "source": []
  }
 ],
 "metadata": {
  "kernelspec": {
   "display_name": "Python 3",
   "language": "python",
   "name": "python3"
  },
  "language_info": {
   "codemirror_mode": {
    "name": "ipython",
    "version": 3
   },
   "file_extension": ".py",
   "mimetype": "text/x-python",
   "name": "python",
   "nbconvert_exporter": "python",
   "pygments_lexer": "ipython3",
   "version": "3.7.4"
  }
 },
 "nbformat": 4,
 "nbformat_minor": 5
}
